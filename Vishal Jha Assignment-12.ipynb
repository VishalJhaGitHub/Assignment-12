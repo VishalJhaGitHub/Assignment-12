{
 "cells": [
  {
   "cell_type": "code",
   "execution_count": 12,
   "id": "e07317ca-d948-4e28-b690-11a0cb3e369e",
   "metadata": {},
   "outputs": [],
   "source": [
    "#1. What is an Exception in python? Write the difference between Exceptions and Syntax errors.\n",
    "\n",
    "#Ans\n",
    "\n",
    "#Exception is an error that occurs during the execution of a program. When an exception is raised, the normal flow of the program is interrupted and the interpreter searches for an exception handler to deal with the error.\n",
    "\n",
    "#1 - Exceptions can occur for a variety of reasons, such as attempting to divide by zero, accessing an index that is out of range, or calling a method on an object that does not support it. Python has a variety of built-in exception classes for handling these different types of errors, such as ZeroDivisionError, IndexError, and AttributeError.\n",
    "\n",
    "#2 - Syntax errors, on the other hand, are errors that occur when the Python interpreter cannot understand the code because it violates the rules of the Python language. Examples of syntax errors include leaving out a colon at the end of a line when defining a function or misspelling a keyword like if or while."
   ]
  },
  {
   "cell_type": "code",
   "execution_count": 31,
   "id": "3326ab5d-110b-4780-8b6f-28ac9e1d4595",
   "metadata": {},
   "outputs": [
    {
     "ename": "ZeroDivisionError",
     "evalue": "division by zero",
     "output_type": "error",
     "traceback": [
      "\u001b[0;31m---------------------------------------------------------------------------\u001b[0m",
      "\u001b[0;31mZeroDivisionError\u001b[0m                         Traceback (most recent call last)",
      "Cell \u001b[0;32mIn[31], line 9\u001b[0m\n\u001b[1;32m      7\u001b[0m \u001b[38;5;28;01mdef\u001b[39;00m \u001b[38;5;21mdivide\u001b[39m(a, b):\n\u001b[1;32m      8\u001b[0m     \u001b[38;5;28;01mreturn\u001b[39;00m a \u001b[38;5;241m/\u001b[39m b\n\u001b[0;32m----> 9\u001b[0m result \u001b[38;5;241m=\u001b[39m \u001b[43mdivide\u001b[49m\u001b[43m(\u001b[49m\u001b[38;5;241;43m10\u001b[39;49m\u001b[43m,\u001b[49m\u001b[43m \u001b[49m\u001b[38;5;241;43m0\u001b[39;49m\u001b[43m)\u001b[49m\n\u001b[1;32m     10\u001b[0m \u001b[38;5;28mprint\u001b[39m(result)\n",
      "Cell \u001b[0;32mIn[31], line 8\u001b[0m, in \u001b[0;36mdivide\u001b[0;34m(a, b)\u001b[0m\n\u001b[1;32m      7\u001b[0m \u001b[38;5;28;01mdef\u001b[39;00m \u001b[38;5;21mdivide\u001b[39m(a, b):\n\u001b[0;32m----> 8\u001b[0m     \u001b[38;5;28;01mreturn\u001b[39;00m \u001b[43ma\u001b[49m\u001b[43m \u001b[49m\u001b[38;5;241;43m/\u001b[39;49m\u001b[43m \u001b[49m\u001b[43mb\u001b[49m\n",
      "\u001b[0;31mZeroDivisionError\u001b[0m: division by zero"
     ]
    }
   ],
   "source": [
    "#2. What happens when an exception is not handled? Explain with an example.\n",
    "\n",
    "#Ans\n",
    "\n",
    "#When an exception is not handled in a Python program, it will cause the program to terminate and print a traceback message that shows the location and type of the unhandled exception. The traceback will include information about the line of code that raised the exception and the call stack, which shows the sequence of function calls that led up to the error.\n",
    "\n",
    "def divide(a, b):\n",
    "    return a / b\n",
    "result = divide(10, 0)\n",
    "print(result)"
   ]
  },
  {
   "cell_type": "code",
   "execution_count": 15,
   "id": "014f5339-95d0-4f9a-9cb0-cc142adaf3c3",
   "metadata": {},
   "outputs": [
    {
     "name": "stdin",
     "output_type": "stream",
     "text": [
      "Enter a number:  5\n",
      "Enter another number:  10\n"
     ]
    },
    {
     "name": "stdout",
     "output_type": "stream",
     "text": [
      "The result is: 0.5\n"
     ]
    }
   ],
   "source": [
    "#3. Which Python statements are used to catch and handle exceptions? Explain with on example\n",
    "\n",
    "#Ans\n",
    "\n",
    "#try and except statements are used to catch and handle exceptions.\n",
    "\n",
    "try:\n",
    "    x = int(input(\"Enter a number: \"))\n",
    "    y = int(input(\"Enter another number: \"))\n",
    "    result = x / y\n",
    "    print(f\"The result is: {result}\")\n",
    "except ValueError:\n",
    "    print(\"Oops! That was not a valid number. Please try again.\")\n",
    "except ZeroDivisionError:\n",
    "    print(\"Oops! You can't divide by zero. Please try again.\")"
   ]
  },
  {
   "cell_type": "code",
   "execution_count": 16,
   "id": "6e590641-0306-4f75-b188-00abfa4ce968",
   "metadata": {},
   "outputs": [
    {
     "name": "stdin",
     "output_type": "stream",
     "text": [
      "Please enter a number:  5\n"
     ]
    },
    {
     "name": "stdout",
     "output_type": "stream",
     "text": [
      "The result is: 20.0\n",
      "This will always be printed, regardless of whether an exception was raised or not.\n"
     ]
    }
   ],
   "source": [
    "#4. Explain with an example:\n",
    "#o. try and else\n",
    "#b. finally\n",
    "#c. raise\n",
    "\n",
    "#Ans\n",
    "\n",
    "#The keywords \"try\", \"else\", \"finally\", and \"raise\" are part of Python's exception handling mechanism. They allow you to handle errors and unexpected situations in our code.\n",
    "\n",
    "try:\n",
    "    x = int(input(\"Please enter a number: \"))\n",
    "    result = 100 / x\n",
    "except ValueError:\n",
    "    print(\"Invalid input. Please enter a number.\")\n",
    "except ZeroDivisionError:\n",
    "    print(\"Cannot divide by zero.\")\n",
    "else:\n",
    "    print(\"The result is:\", result)\n",
    "finally:\n",
    "    print(\"This will always be printed, regardless of whether an exception was raised or not.\")   "
   ]
  },
  {
   "cell_type": "code",
   "execution_count": 17,
   "id": "06b4c3a2-2d12-426d-81a6-8e160b8a19ce",
   "metadata": {},
   "outputs": [
    {
     "name": "stdout",
     "output_type": "stream",
     "text": [
      "An error occurred: Cannot divide by zero\n"
     ]
    }
   ],
   "source": [
    "#5. What are Custom Exceptions in python? Why do we need Custom Exceptions? Explain with an example\n",
    "\n",
    "#Ans\n",
    "\n",
    "#Custom exceptions are user-defined exceptions in Python. We can create your own exception class by deriving it from the built-in Exception class or one of its subclasses. Custom exceptions allow you to handle specific errors or unexpected situations in your code that are not covered by the built-in exceptions.\n",
    "\n",
    "#We need custom exceptions to provide more informative error messages and to better organize and modularize the error handling in our code. Custom exceptions also make it easier to reuse error handling code across multiple projects or modules.\n",
    "\n",
    "class CustomError(Exception):\n",
    "    pass\n",
    "def divide_numbers(a, b):\n",
    "    if b == 0:\n",
    "        raise CustomError(\"Cannot divide by zero\")\n",
    "    return a / b\n",
    "try:\n",
    "    result = divide_numbers(10, 0)\n",
    "except CustomError as e:\n",
    "    print(\"An error occurred:\", e)"
   ]
  },
  {
   "cell_type": "code",
   "execution_count": 32,
   "id": "d3aa151a-d45c-4e46-807f-c7bc88709301",
   "metadata": {},
   "outputs": [
    {
     "name": "stdout",
     "output_type": "stream",
     "text": [
      "Cannot divide by zero\n"
     ]
    }
   ],
   "source": [
    "#6. Create a custom exception class. Use this class to handle an exception.\n",
    "\n",
    "#Ans\n",
    "\n",
    "class MyCustomException(Exception):\n",
    "    def __init__(self, message):\n",
    "        self.message = message\n",
    "def divide_by_zero(num1, num2):\n",
    "    if num2 == 0:\n",
    "        raise MyCustomException(\"Cannot divide by zero\")\n",
    "    else:\n",
    "        return num1 / num2\n",
    "try:\n",
    "    result = divide_by_zero(10, 0)\n",
    "except MyCustomException as e:\n",
    "    print(e.message)\n",
    "else:\n",
    "    print(result)"
   ]
  },
  {
   "cell_type": "code",
   "execution_count": null,
   "id": "3146f964-f71a-4e42-b937-70b582485588",
   "metadata": {},
   "outputs": [],
   "source": []
  }
 ],
 "metadata": {
  "kernelspec": {
   "display_name": "Python 3 (ipykernel)",
   "language": "python",
   "name": "python3"
  },
  "language_info": {
   "codemirror_mode": {
    "name": "ipython",
    "version": 3
   },
   "file_extension": ".py",
   "mimetype": "text/x-python",
   "name": "python",
   "nbconvert_exporter": "python",
   "pygments_lexer": "ipython3",
   "version": "3.10.8"
  }
 },
 "nbformat": 4,
 "nbformat_minor": 5
}
